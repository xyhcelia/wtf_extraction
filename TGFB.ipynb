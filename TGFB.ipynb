{
 "cells": [
  {
   "cell_type": "code",
   "execution_count": 1,
   "metadata": {},
   "outputs": [],
   "source": [
    "import pandas as pd"
   ]
  },
  {
   "cell_type": "code",
   "execution_count": 7,
   "metadata": {},
   "outputs": [],
   "source": [
    "files='SKCM/SKCM_GSE120575_aPD1aCTLA4_CellMetainfo_table.tsv'\n",
    "dt=pd.read_csv(files,sep='\\t')"
   ]
  },
  {
   "cell_type": "code",
   "execution_count": 8,
   "metadata": {},
   "outputs": [
    {
     "data": {
      "text/plain": [
       "Index(['Cell', 'UMAP_1', 'UMAP_2', 'Celltype (malignancy)',\n",
       "       'Celltype (major-lineage)', 'Celltype (minor-lineage)', 'Cluster',\n",
       "       'Response', 'Treatment', 'Patient', 'Source', 'Age', 'Gender', 'Stage',\n",
       "       'Status', 'Survival', 'TimePoint'],\n",
       "      dtype='object')"
      ]
     },
     "execution_count": 8,
     "metadata": {},
     "output_type": "execute_result"
    }
   ],
   "source": [
    "dt.columns"
   ]
  },
  {
   "cell_type": "code",
   "execution_count": 9,
   "metadata": {},
   "outputs": [
    {
     "data": {
      "text/plain": [
       "array(['B', 'CD4Tconv', 'CD8T', 'CD8Tex', 'DC', 'Mono/Macro', 'NK',\n",
       "       'Plasma', 'Tprolif', 'Treg'], dtype=object)"
      ]
     },
     "execution_count": 9,
     "metadata": {},
     "output_type": "execute_result"
    }
   ],
   "source": [
    "dt['Celltype (major-lineage)'].unique()"
   ]
  },
  {
   "cell_type": "code",
   "execution_count": 10,
   "metadata": {},
   "outputs": [],
   "source": [
    "patient=dt['Patient'].value_counts()\n",
    "patient=pd.DataFrame(patient)\n",
    "Treg=dt[dt['Celltype (major-lineage)']=='Treg']\n",
    "Treg_num=Treg['Patient'].value_counts()\n",
    "Treg_num=pd.DataFrame(Treg_num)\n",
    "CD8T=dt[dt['Celltype (major-lineage)']=='CD8T']\n",
    "CD8T_num=CD8T['Patient'].value_counts()\n",
    "CD8T_num=pd.DataFrame(CD8T_num)\n",
    "dt1=pd.merge(CD8T_num,Treg_num,left_index=True,right_index=True)\n",
    "dt1=pd.merge(dt1,patient,left_index=True,right_index=True)\n",
    "dt1.columns=['CD8T_num','Treg_num','ALL']\n",
    "dt1['CD8T_pert']=dt1['CD8T_num']/dt1['ALL']\n",
    "dt1['Treg_pert']=dt1['Treg_num']/dt1['ALL']"
   ]
  },
  {
   "cell_type": "code",
   "execution_count": 11,
   "metadata": {},
   "outputs": [],
   "source": [
    "dt1.to_csv('SKCM/SKCM_GSE120575_T.tsv',sep='\\t')"
   ]
  },
  {
   "cell_type": "code",
   "execution_count": 6,
   "metadata": {},
   "outputs": [
    {
     "data": {
      "text/plain": [
       "P0729     352\n",
       "P0617     300\n",
       "P0913     268\n",
       "P1118     254\n",
       "P1010     200\n",
       "P1202     153\n",
       "P0616A    134\n",
       "P1120     123\n",
       "P1011     118\n",
       "P0616P    114\n",
       "P1219      47\n",
       "P0706      45\n",
       "P0619      30\n",
       "P1208      29\n",
       "Name: Patient, dtype: int64"
      ]
     },
     "execution_count": 6,
     "metadata": {},
     "output_type": "execute_result"
    }
   ],
   "source": [
    "CD8T_num"
   ]
  }
 ],
 "metadata": {
  "kernelspec": {
   "display_name": "Python 3",
   "language": "python",
   "name": "python3"
  },
  "language_info": {
   "codemirror_mode": {
    "name": "ipython",
    "version": 3
   },
   "file_extension": ".py",
   "mimetype": "text/x-python",
   "name": "python",
   "nbconvert_exporter": "python",
   "pygments_lexer": "ipython3",
   "version": "3.7.6"
  }
 },
 "nbformat": 4,
 "nbformat_minor": 4
}
